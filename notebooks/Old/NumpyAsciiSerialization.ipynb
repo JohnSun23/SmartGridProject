{
 "metadata": {
  "name": ""
 },
 "nbformat": 3,
 "nbformat_minor": 0,
 "worksheets": [
  {
   "cells": [
    {
     "cell_type": "markdown",
     "metadata": {},
     "source": [
      "# About #\n",
      "Here we'll give examples of how to ASCII serialize/deserialize numpy arrays and pandas series\n",
      "\n",
      "All arrays and series will be cast to 32-bit floats"
     ]
    },
    {
     "cell_type": "code",
     "collapsed": false,
     "input": [
      "import sys, os\n",
      "sys.path.append(os.environ['SMART_GRID_SRC'])\n",
      "from serialize_tag_date import b64_encode_series, b64_decode_series, \\\n",
      "    b64_pandas_encode_series, b64_pandas_decode_series\n",
      "import numpy as np"
     ],
     "language": "python",
     "metadata": {},
     "outputs": [],
     "prompt_number": 3
    },
    {
     "cell_type": "code",
     "collapsed": false,
     "input": [
      "# Encode/decode a small numpy array\n",
      "x = np.arange(10)*1.1\n",
      "x_encoded = b64_encode_series(x)\n",
      "x_reconstructed = b64_decode_series(x_encoded)\n",
      "\n",
      "# Encode/decode a small pandas series\n",
      "y = pd.Series(x,index=x*5.3)\n",
      "y_encoded = b64_pandas_encode_series(y)\n",
      "y_reconstructed = b64_pandas_decode_series(y_encoded)"
     ],
     "language": "python",
     "metadata": {},
     "outputs": [],
     "prompt_number": 31
    },
    {
     "cell_type": "code",
     "collapsed": false,
     "input": [
      "print '# original numpy array:\\n'\n",
      "print x\n",
      "print '\\n# b64 encoded:\\n'\n",
      "print x_encoded\n",
      "print '\\n# the original reconstructed:\\n'\n",
      "print x_reconstructed\n",
      "print '\\n'\n",
      "\n",
      "print '\\n# original pandas series:\\n'\n",
      "print y\n",
      "print '\\n# b64 encoded:\\n'\n",
      "print y_encoded\n",
      "print '\\n# the original reconstructed:\\n'\n",
      "print y_reconstructed"
     ],
     "language": "python",
     "metadata": {},
     "outputs": [
      {
       "output_type": "stream",
       "stream": "stdout",
       "text": [
        "# original numpy array:\n",
        "\n",
        "[ 0.   1.1  2.2  3.3  4.4  5.5  6.6  7.7  8.8  9.9]\n",
        "\n",
        "# b64 encoded:\n",
        "\n",
        "AAAAAM3MjD/NzAxAMzNTQM3MjEAAALBAMzPTQGZm9kDNzAxBZmYeQQ==\n",
        "\n",
        "# the original reconstructed:\n",
        "\n",
        "[ 0.          1.10000002  2.20000005  3.29999995  4.4000001   5.5\n",
        "  6.5999999   7.69999981  8.80000019  9.89999962]\n",
        "\n",
        "\n",
        "\n",
        "# original pandas series:\n",
        "\n",
        "0.00     0.0\n",
        "5.83     1.1\n",
        "11.66    2.2\n",
        "17.49    3.3\n",
        "23.32    4.4\n",
        "29.15    5.5\n",
        "34.98    6.6\n",
        "40.81    7.7\n",
        "46.64    8.8\n",
        "52.47    9.9\n",
        "dtype: float64\n",
        "\n",
        "# b64 encoded:\n",
        "\n",
        "AAAAAFyPukBcjzpBheuLQVyPukEzM+lBhesLQnE9I0JcjzpCSOFRQgAAAADNzIw/zcwMQDMzU0DNzIxAAACwQDMz00BmZvZAzcwMQWZmHkE=\n",
        "\n",
        "# the original reconstructed:\n",
        "\n",
        "0.000000     0.0\n",
        "5.830000     1.1\n",
        "11.660000    2.2\n",
        "17.490000    3.3\n",
        "23.320000    4.4\n",
        "29.150000    5.5\n",
        "34.980000    6.6\n",
        "40.810001    7.7\n",
        "46.639999    8.8\n",
        "52.470001    9.9\n",
        "dtype: float32\n"
       ]
      }
     ],
     "prompt_number": 36
    },
    {
     "cell_type": "markdown",
     "metadata": {},
     "source": [
      "# Encoding Efficiency #\n",
      "There is a large amount of overhead (~33%), even for large arrays.  This is due to the restricted ASCII character set used in 64-bit encoding.  \n",
      "\n",
      "Here we evaluate the efficiency of b64 encoding for large numpy arrays.  \n",
      "\n",
      "Overhead is evaluated relative to a flat 4-byte-per-float32 encoding.  \n",
      "Note that additional compression could give a performance boost.  "
     ]
    },
    {
     "cell_type": "code",
     "collapsed": false,
     "input": [
      "n = 1000 #length of numpy array\n",
      "x = np.arange(n)*1.1\n",
      "x_encoded = b64_encode_series(x)\n",
      "x_reconstructed = b64_decode_series(x_encoded)\n",
      "\n",
      "bytes_per_float = len(x_encoded)/float(n)\n",
      "\n",
      "print '%.1f%% Overhead'%((bytes_per_float/4 - 1)*100)"
     ],
     "language": "python",
     "metadata": {},
     "outputs": [
      {
       "output_type": "stream",
       "stream": "stdout",
       "text": [
        "33.4% Overhead\n"
       ]
      }
     ],
     "prompt_number": 26
    }
   ],
   "metadata": {}
  }
 ]
}