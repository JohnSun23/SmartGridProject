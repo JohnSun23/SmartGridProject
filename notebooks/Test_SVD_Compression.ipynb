{
 "metadata": {
  "name": "",
  "signature": "sha256:c1fccbe4249c35f6af0d7d9a79c81ab017d9e853499fbe9d52e871c4bc83ad1c"
 },
 "nbformat": 3,
 "nbformat_minor": 0,
 "worksheets": [
  {
   "cells": [
    {
     "cell_type": "code",
     "collapsed": false,
     "input": [
      "import sys, os\n",
      "sys.path.append(os.environ['SMART_GRID_SRC'])\n",
      "#from matplotlib.pyplot import *\n",
      "import pandas as pd\n",
      "import random, pickle\n",
      "from get_tag_series import part_tag_dict, get_tag_series\n",
      "from serialize_tag_date import decode_date\n",
      "import datetime\n",
      "from numpy.linalg import norm\n",
      "from operator import itemgetter\n",
      "#import statsmodels.tsa.api as tsa\n",
      "from evaluate_visualize_model.load_compressed_tag_errs import load_compressed_tag_errs\n",
      "from compression_methods import decompress_df, constant_compressor, mean_compressor, \\\n",
      "    tag_constant_compressor, svd_compressor\n",
      "#from evaluate_visualize_model.analyze_tag_errs import sample_df, plot_daily_series\n",
      "#import pywt\n",
      "from scipy.linalg import svd\n",
      "from serialize_tag_date import encode_date, decode_date, \\\n",
      "    b64_encode_series, b64_decode_series"
     ],
     "language": "python",
     "metadata": {},
     "outputs": [],
     "prompt_number": 1
    },
    {
     "cell_type": "code",
     "collapsed": false,
     "input": [
      "# Load compressed data\n",
      "compression_dir = os.path.join(os.environ['SMART_GRID_DATA'],'compression')\n",
      "context = load_compressed_tag_errs(os.path.join(compression_dir,'mean_svd_compressed_tiny'))\n",
      "df_compressed = context['df']"
     ],
     "language": "python",
     "metadata": {},
     "outputs": [
      {
       "output_type": "stream",
       "stream": "stderr",
       "text": [
        "/oasis/projects/nsf/csd181/hadoop/python-virtualEnv3/lib/python2.7/site-packages/pandas/core/common.py:2710: FutureWarning: load is deprecated, use read_pickle\n",
        "  warnings.warn(\"load is deprecated, use read_pickle\", FutureWarning)\n"
       ]
      }
     ],
     "prompt_number": 2
    },
    {
     "cell_type": "code",
     "collapsed": false,
     "input": [
      "# Rank sensors by error.  We're interested in the cases where SVD performs very well, and when it performs poorly\n",
      "tag_errors = df_compressed.groupby(df_compressed.index.get_level_values(0))['error'].mean()\n",
      "tag_errors.sort()"
     ],
     "language": "python",
     "metadata": {},
     "outputs": [],
     "prompt_number": 3
    },
    {
     "cell_type": "code",
     "collapsed": false,
     "input": [
      "tag_index = 0\n",
      "print 'Number of days where we have data for this tag: %d' % \\\n",
      "    (df_compressed.index.get_level_values(0) == tag_index).sum()\n",
      "# Reconstruct an approximation of the original signal\n",
      "df_reconstructed = decompress_df(df_compressed[df_compressed.index.get_level_values(0) == tag_index], \n",
      "                                 context, svd_compressor)\n",
      "plot_daily_series(df_reconstructed, title='Reconstructed signal')\n",
      "show()"
     ],
     "language": "python",
     "metadata": {},
     "outputs": [
      {
       "output_type": "stream",
       "stream": "stdout",
       "text": [
        "Number of days where we have data for this tag: 467\n"
       ]
      },
      {
       "ename": "NameError",
       "evalue": "name 'plot_daily_series' is not defined",
       "output_type": "pyerr",
       "traceback": [
        "\u001b[1;31m---------------------------------------------------------------------------\u001b[0m\n\u001b[1;31mNameError\u001b[0m                                 Traceback (most recent call last)",
        "\u001b[1;32m<ipython-input-5-7e52aa6053bf>\u001b[0m in \u001b[0;36m<module>\u001b[1;34m()\u001b[0m\n\u001b[0;32m      4\u001b[0m df_reconstructed = decompress_df(df_compressed[df_compressed.index.get_level_values(0) == tag_index], \n\u001b[0;32m      5\u001b[0m                                  context, svd_compressor)\n\u001b[1;32m----> 6\u001b[1;33m \u001b[0mplot_daily_series\u001b[0m\u001b[1;33m(\u001b[0m\u001b[0mdf_reconstructed\u001b[0m\u001b[1;33m,\u001b[0m \u001b[0mtitle\u001b[0m\u001b[1;33m=\u001b[0m\u001b[1;34m'Reconstructed signal'\u001b[0m\u001b[1;33m)\u001b[0m\u001b[1;33m\u001b[0m\u001b[0m\n\u001b[0m\u001b[0;32m      7\u001b[0m \u001b[0mshow\u001b[0m\u001b[1;33m(\u001b[0m\u001b[1;33m)\u001b[0m\u001b[1;33m\u001b[0m\u001b[0m\n",
        "\u001b[1;31mNameError\u001b[0m: name 'plot_daily_series' is not defined"
       ]
      }
     ],
     "prompt_number": 5
    }
   ],
   "metadata": {}
  }
 ]
}