{
 "metadata": {
  "name": ""
 },
 "nbformat": 3,
 "nbformat_minor": 0,
 "worksheets": [
  {
   "cells": [
    {
     "cell_type": "code",
     "collapsed": false,
     "input": [
      "from notebook_common import *\n",
      "toggle_sections"
     ],
     "language": "python",
     "metadata": {},
     "outputs": [
      {
       "output_type": "stream",
       "stream": "stderr",
       "text": [
        "/usr/local/lib/python2.7/dist-packages/pandas/core/common.py:2106: FutureWarning: load is deprecated, use read_pickle\n",
        "  warnings.warn(\"load is deprecated, use read_pickle\", FutureWarning)\n"
       ]
      },
      {
       "html": [
        "\n",
        "<script type=\"text/javascript\">\n",
        "     show=true;\n",
        "     function toggle(){\n",
        "         if (show){\n",
        "             $('div.input').hide();\n",
        "             $('div.output_area').hide();\n",
        "             $(\"#toggle\").parent().parent().show()\n",
        "         }else{\n",
        "             $('div.input').show();\n",
        "             $('div.output_area').show();\n",
        "         }\n",
        "         show = !show\n",
        "     }\n",
        " </script>\n",
        " <a id=\"toggle\" href=\"javascript:toggle()\" target=\"_self\">toggle sections</a>"
       ],
       "metadata": {},
       "output_type": "pyout",
       "prompt_number": 4,
       "text": [
        "<IPython.core.display.HTML at 0x6b47690>"
       ]
      }
     ],
     "prompt_number": 4
    },
    {
     "cell_type": "markdown",
     "metadata": {},
     "source": [
      "# Choose Best Compressors #\n",
      "Select min space with error constraint, not min error with space constraint (this is trivial).  "
     ]
    },
    {
     "cell_type": "markdown",
     "metadata": {},
     "source": [
      "### Compute Choice of Error ###"
     ]
    },
    {
     "cell_type": "code",
     "collapsed": false,
     "input": [
      "se_path = os.path.join(os.environ['compression_data_dir'],'all_space_err.txt')\n",
      "se = pd.read_csv(se_path,names=['tag','compressor','space_err'],sep='^')"
     ],
     "language": "python",
     "metadata": {},
     "outputs": [],
     "prompt_number": 5
    },
    {
     "cell_type": "code",
     "collapsed": false,
     "input": [
      "# square error for using a single constant to compress every sensor\n",
      "constant_err = se[se['compressor'] == 'constant_tag']['space_err'].apply(lambda x:get_space_mse(x)[1][0])\n",
      "max_error = constant_err.median() #10x less than mean square error"
     ],
     "language": "python",
     "metadata": {},
     "outputs": [],
     "prompt_number": 7
    },
    {
     "cell_type": "markdown",
     "metadata": {},
     "source": [
      "### Calculate best compressor for each sensor ###"
     ]
    },
    {
     "cell_type": "code",
     "collapsed": false,
     "input": [
      "best = se.head(n=10).groupby('tag').apply(lambda se2:choose_compressor(se2,max_error))\n",
      "best.index = best.index.get_level_values(0)\n",
      "best_path = os.path.join(os.environ['compression_data_dir'],'best2.panda')\n",
      "best.save(best_path)"
     ],
     "language": "python",
     "metadata": {},
     "outputs": [
      {
       "output_type": "stream",
       "stream": "stderr",
       "text": [
        "/usr/local/lib/python2.7/dist-packages/pandas/core/generic.py:43: FutureWarning: save is deprecated, use to_pickle\n",
        "  warnings.warn(\"save is deprecated, use to_pickle\", FutureWarning)\n"
       ]
      }
     ],
     "prompt_number": 10
    }
   ],
   "metadata": {}
  }
 ]
}