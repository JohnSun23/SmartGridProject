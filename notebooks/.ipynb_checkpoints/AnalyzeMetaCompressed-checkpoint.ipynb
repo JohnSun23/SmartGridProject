{
 "metadata": {
  "name": "",
  "signature": "sha256:3d3a56c97d6b88b07d5b6250e8114b54c246110a8ae9e76e199edf08bdf223b3"
 },
 "nbformat": 3,
 "nbformat_minor": 0,
 "worksheets": [
  {
   "cells": [
    {
     "cell_type": "code",
     "collapsed": false,
     "input": [
      "from notebook_common import *\n",
      "toggle_sections"
     ],
     "language": "python",
     "metadata": {},
     "outputs": [
      {
       "output_type": "stream",
       "stream": "stderr",
       "text": [
        "/usr/local/lib/python2.7/dist-packages/pandas/core/common.py:2106: FutureWarning: load is deprecated, use read_pickle\n",
        "  warnings.warn(\"load is deprecated, use read_pickle\", FutureWarning)\n"
       ]
      },
      {
       "html": [
        "\n",
        "<script type=\"text/javascript\">\n",
        "     show=true;\n",
        "     function toggle(){\n",
        "         if (show){\n",
        "             $('div.input').hide();\n",
        "             $('div.output_area').hide();\n",
        "             $(\"#toggle\").parent().parent().show()\n",
        "         }else{\n",
        "             $('div.input').show();\n",
        "             $('div.output_area').show();\n",
        "         }\n",
        "         show = !show\n",
        "     }\n",
        " </script>\n",
        " <a id=\"toggle\" href=\"javascript:toggle()\" target=\"_self\">toggle sections</a>"
       ],
       "metadata": {},
       "output_type": "pyout",
       "prompt_number": 1,
       "text": [
        "<IPython.core.display.HTML at 0x60fe410>"
       ]
      }
     ],
     "prompt_number": 1
    },
    {
     "cell_type": "markdown",
     "metadata": {},
     "source": [
      "# Reconstruct From Meta-Compressed Representation #\n",
      "Sensor data has been meta-compressed if the best compression method has been chosen for each sensor.  "
     ]
    },
    {
     "cell_type": "code",
     "collapsed": false,
     "input": [
      "# Load compressed data\n",
      "compression_dir = os.path.join(os.environ['SMART_GRID_DATA'],'compression')\n",
      "context = load_compressed_tag_errs(os.path.join(compression_dir,'outside_temp_meta_compressed'))\n",
      "df_compressed = context['df']\n",
      "tag_list = context['tag_list']"
     ],
     "language": "python",
     "metadata": {},
     "outputs": [],
     "prompt_number": 2
    },
    {
     "cell_type": "code",
     "collapsed": false,
     "input": [
      "tag = tag_list[0] #random.choice(tag_list)\n",
      "df_meta = meta_decompress_tag(df_compressed,tag,context)\n",
      "df = get_tag_series(tag)"
     ],
     "language": "python",
     "metadata": {},
     "outputs": [],
     "prompt_number": 31
    }
   ],
   "metadata": {}
  }
 ]
}