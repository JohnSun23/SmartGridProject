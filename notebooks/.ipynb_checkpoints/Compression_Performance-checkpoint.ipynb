{
 "metadata": {
  "name": "",
  "signature": "sha256:3d3a56c97d6b88b07d5b6250e8114b54c246110a8ae9e76e199edf08bdf223b3"
 },
 "nbformat": 3,
 "nbformat_minor": 0,
 "worksheets": [
  {
   "cells": [
    {
     "cell_type": "code",
     "collapsed": false,
     "input": [
      "from IPython.display import HTML\n",
      "toggle_sections = HTML(\"\"\"\n",
      "<script type=\"text/javascript\">\n",
      "     show=true;\n",
      "     function toggle(){\n",
      "         if (show){\n",
      "             $('div.input').hide();\n",
      "             $('div.output_area').hide();\n",
      "             $(\"#toggle\").parent().parent().show()\n",
      "         }else{\n",
      "             $('div.input').show();\n",
      "             $('div.output_area').show();\n",
      "         }\n",
      "         show = !show\n",
      "     }\n",
      " </script>\n",
      " <a id=\"toggle\" href=\"javascript:toggle()\" target=\"_self\">toggle sections</a>\"\"\")\n",
      "toggle_sections"
     ],
     "language": "python",
     "metadata": {},
     "outputs": [
      {
       "html": [
        "\n",
        "<script type=\"text/javascript\">\n",
        "     show=true;\n",
        "     function toggle(){\n",
        "         if (show){\n",
        "             $('div.input').hide();\n",
        "             $('div.output_area').hide();\n",
        "             $(\"#toggle\").parent().parent().show()\n",
        "         }else{\n",
        "             $('div.input').show();\n",
        "             $('div.output_area').show();\n",
        "         }\n",
        "         show = !show\n",
        "     }\n",
        " </script>\n",
        " <a id=\"toggle\" href=\"javascript:toggle()\" target=\"_self\">toggle sections</a>"
       ],
       "metadata": {},
       "output_type": "pyout",
       "prompt_number": 1,
       "text": [
        "<IPython.core.display.HTML at 0x3fc2d90>"
       ]
      }
     ],
     "prompt_number": 1
    },
    {
     "cell_type": "markdown",
     "metadata": {},
     "source": [
      "# Import and Load Data #"
     ]
    },
    {
     "cell_type": "code",
     "collapsed": false,
     "input": [
      "import sys, os\n",
      "sys.path.append(os.environ['SMART_GRID_SRC'])\n",
      "from matplotlib.pyplot import *\n",
      "import pandas as pd\n",
      "import random, pickle\n",
      "from get_tag_series import part_tag_dict, get_tag_series\n",
      "from serialize_tag_date import decode_date\n",
      "import datetime\n",
      "from numpy.linalg import norm\n",
      "from operator import itemgetter\n",
      "#import statsmodels.tsa.api as tsa\n",
      "from evaluate_visualize_model.load_compressed_tag_errs import load_compressed_tag_errs\n",
      "from compression_methods import decompress_df, compressors, SVDCompressor, WaveletCompressor, fill_coeffs, Compressor\n",
      "from evaluate_visualize_model.analyze_tag_errs import sample_df, plot_daily_series\n",
      "import pywt\n",
      "from scipy.linalg import svd\n",
      "from serialize_tag_date import encode_date, decode_date, \\\n",
      "    b64_encode_series, b64_decode_series\n",
      "import random\n",
      "from compression_methods import fill_coeffs\n",
      "from collections import defaultdict\n",
      "import nltk"
     ],
     "language": "python",
     "metadata": {},
     "outputs": [],
     "prompt_number": 2
    },
    {
     "cell_type": "code",
     "collapsed": false,
     "input": [
      "# Load compressed data\n",
      "compression_dir = os.path.join(os.environ['SMART_GRID_DATA'],'compression')\n",
      "context = load_compressed_tag_errs(os.path.join(compression_dir,'all_compressed2'))\n",
      "df_compressed = context['df']\n",
      "tag_list = context['tag_list']"
     ],
     "language": "python",
     "metadata": {},
     "outputs": [
      {
       "output_type": "stream",
       "stream": "stderr",
       "text": [
        "/usr/local/lib/python2.7/dist-packages/pandas/core/common.py:2106: FutureWarning: load is deprecated, use read_pickle\n",
        "  warnings.warn(\"load is deprecated, use read_pickle\", FutureWarning)\n"
       ]
      }
     ],
     "prompt_number": 3
    },
    {
     "cell_type": "markdown",
     "metadata": {},
     "source": [
      "# Filter Out Low-Error Series#"
     ]
    },
    {
     "cell_type": "code",
     "collapsed": false,
     "input": [
      "# baseline is: a constant for the entire sensor, across all days\n",
      "n = float(len(df_compressed))\n",
      "print 'Originally %d tag/days'%n\n",
      "errs = df_compressed.xs('error',axis=1,level=1)\n",
      "baseline = errs['constant_tag']\n",
      "\n",
      "#Remove constant and very high-error sensor-days\n",
      "errs = errs[errs['constant_tag'] < errs['constant_tag'].quantile(0.99)]\n",
      "print 'After filtering out very large errors over entire tag: %d, %.3f of total'%(len(errs),len(errs)/n)\n",
      "errs = errs[errs['constant_tag'] > 0] \n",
      "print 'After filtering out constants over entire tag: %d, %.3f of total'%(len(errs),len(errs)/n)\n",
      "errs = errs[errs['constant_tag_day'] > 0]\n",
      "print 'After filtering out constants over each tag/date: %d, %.3f of total'%(len(errs),len(errs)/n)\n",
      "\n",
      "columns = set(errs.columns) - set(['constant_tag'])\n",
      "other_columns = list(columns - set(['constant_tag_day']))\n",
      "\n",
      "# Scale errors relative to constant-per-day\n",
      "for c in other_columns:\n",
      "    errs[c] = errs[c] / errs['constant_tag_day']\n",
      "    \n",
      "errs['constant_tag_day'] = 1\n",
      "\n",
      "errs = errs[errs['haar_wavelet_4'] > 0]\n",
      "print 'After filtering out cases where haar perfectly compresses: %d, %.3f of total'%(len(errs),len(errs)/n)\n",
      "\n",
      "errs.describe()"
     ],
     "language": "python",
     "metadata": {},
     "outputs": [
      {
       "output_type": "stream",
       "stream": "stdout",
       "text": [
        "Originally 24322117 tag/days\n",
        "After filtering out very large errors over entire tag: 24078895, 0.990 of total"
       ]
      },
      {
       "output_type": "stream",
       "stream": "stdout",
       "text": [
        "\n",
        "After filtering out constants over entire tag: 19344916, 0.795 of total"
       ]
      },
      {
       "output_type": "stream",
       "stream": "stdout",
       "text": [
        "\n",
        "After filtering out constants over each tag/date: 12921110, 0.531 of total"
       ]
      },
      {
       "output_type": "stream",
       "stream": "stdout",
       "text": [
        "\n",
        "After filtering out cases where haar perfectly compresses: 8855524, 0.364 of total"
       ]
      },
      {
       "output_type": "stream",
       "stream": "stdout",
       "text": [
        "\n"
       ]
      },
      {
       "html": [
        "<div style=\"max-height:1000px;max-width:1500px;overflow:auto;\">\n",
        "<table border=\"1\" class=\"dataframe\">\n",
        "  <thead>\n",
        "    <tr style=\"text-align: right;\">\n",
        "      <th></th>\n",
        "      <th>constant_tag</th>\n",
        "      <th>constant_tag_day</th>\n",
        "      <th>constant_tag_minute</th>\n",
        "      <th>haar_wavelet_4</th>\n",
        "      <th>svd_2</th>\n",
        "    </tr>\n",
        "  </thead>\n",
        "  <tbody>\n",
        "    <tr>\n",
        "      <th>count</th>\n",
        "      <td> 8855524.000000</td>\n",
        "      <td> 8855524</td>\n",
        "      <td> 8855524.000000</td>\n",
        "      <td> 8855524.000000</td>\n",
        "      <td> 8855524.000000</td>\n",
        "    </tr>\n",
        "    <tr>\n",
        "      <th>mean</th>\n",
        "      <td>     714.733238</td>\n",
        "      <td>       1</td>\n",
        "      <td>     108.357434</td>\n",
        "      <td>       0.453704</td>\n",
        "      <td>       4.628901</td>\n",
        "    </tr>\n",
        "    <tr>\n",
        "      <th>std</th>\n",
        "      <td>    1493.779036</td>\n",
        "      <td>       0</td>\n",
        "      <td>    1557.844531</td>\n",
        "      <td>       0.257722</td>\n",
        "      <td>      88.318535</td>\n",
        "    </tr>\n",
        "    <tr>\n",
        "      <th>min</th>\n",
        "      <td>       0.010000</td>\n",
        "      <td>       1</td>\n",
        "      <td>       0.000000</td>\n",
        "      <td>       0.000011</td>\n",
        "      <td>       0.000000</td>\n",
        "    </tr>\n",
        "    <tr>\n",
        "      <th>25%</th>\n",
        "      <td>      33.166614</td>\n",
        "      <td>       1</td>\n",
        "      <td>       0.887720</td>\n",
        "      <td>       0.269113</td>\n",
        "      <td>       0.377031</td>\n",
        "    </tr>\n",
        "    <tr>\n",
        "      <th>50%</th>\n",
        "      <td>     136.060059</td>\n",
        "      <td>       1</td>\n",
        "      <td>       1.508208</td>\n",
        "      <td>       0.380977</td>\n",
        "      <td>       0.724602</td>\n",
        "    </tr>\n",
        "    <tr>\n",
        "      <th>75%</th>\n",
        "      <td>     655.170837</td>\n",
        "      <td>       1</td>\n",
        "      <td>       7.375036</td>\n",
        "      <td>       0.603062</td>\n",
        "      <td>       1.002413</td>\n",
        "    </tr>\n",
        "    <tr>\n",
        "      <th>max</th>\n",
        "      <td>   10182.574219</td>\n",
        "      <td>       1</td>\n",
        "      <td>  668487.875000</td>\n",
        "      <td>       1.118034</td>\n",
        "      <td>   96801.140625</td>\n",
        "    </tr>\n",
        "  </tbody>\n",
        "</table>\n",
        "</div>"
       ],
       "metadata": {},
       "output_type": "pyout",
       "prompt_number": 4,
       "text": [
        "         constant_tag  constant_tag_day  constant_tag_minute  haar_wavelet_4  \\\n",
        "count  8855524.000000           8855524       8855524.000000  8855524.000000   \n",
        "mean       714.733238                 1           108.357434        0.453704   \n",
        "std       1493.779036                 0          1557.844531        0.257722   \n",
        "min          0.010000                 1             0.000000        0.000011   \n",
        "25%         33.166614                 1             0.887720        0.269113   \n",
        "50%        136.060059                 1             1.508208        0.380977   \n",
        "75%        655.170837                 1             7.375036        0.603062   \n",
        "max      10182.574219                 1        668487.875000        1.118034   \n",
        "\n",
        "                svd_2  \n",
        "count  8855524.000000  \n",
        "mean         4.628901  \n",
        "std         88.318535  \n",
        "min          0.000000  \n",
        "25%          0.377031  \n",
        "50%          0.724602  \n",
        "75%          1.002413  \n",
        "max      96801.140625  "
       ]
      }
     ],
     "prompt_number": 4
    },
    {
     "cell_type": "code",
     "collapsed": false,
     "input": [
      "total_space = df_compressed.xs('space',axis=1,level=1).sum(axis=0).sum(axis=1)\n",
      "print 'total compressed space: %.1f GB'%(total_space/10.**9)"
     ],
     "language": "python",
     "metadata": {},
     "outputs": [
      {
       "output_type": "stream",
       "stream": "stdout",
       "text": [
        "total compressed space: 5.3 GB\n"
       ]
      }
     ],
     "prompt_number": 91
    },
    {
     "cell_type": "markdown",
     "metadata": {},
     "source": [
      "# Split Series By Compressor Error #"
     ]
    },
    {
     "cell_type": "markdown",
     "metadata": {},
     "source": [
      "### Error Summary for Haar and SVD ###"
     ]
    },
    {
     "cell_type": "code",
     "collapsed": false,
     "input": [
      "e2 = errs[(errs['haar_wavelet_4'] < 1.2) & (errs['svd_2'] < 1.2)]\n",
      "err_sample = sample_df(e2,1000)[['haar_wavelet_4','svd_2']]"
     ],
     "language": "python",
     "metadata": {},
     "outputs": [],
     "prompt_number": 42
    },
    {
     "cell_type": "code",
     "collapsed": false,
     "input": [
      "errs.head(n=5)"
     ],
     "language": "python",
     "metadata": {},
     "outputs": [
      {
       "html": [
        "<div style=\"max-height:1000px;max-width:1500px;overflow:auto;\">\n",
        "<table border=\"1\" class=\"dataframe\">\n",
        "  <thead>\n",
        "    <tr style=\"text-align: right;\">\n",
        "      <th></th>\n",
        "      <th></th>\n",
        "      <th>constant_tag</th>\n",
        "      <th>constant_tag_day</th>\n",
        "      <th>constant_tag_minute</th>\n",
        "      <th>haar_wavelet_4</th>\n",
        "      <th>svd_2</th>\n",
        "    </tr>\n",
        "    <tr>\n",
        "      <th>tag</th>\n",
        "      <th>date</th>\n",
        "      <th></th>\n",
        "      <th></th>\n",
        "      <th></th>\n",
        "      <th></th>\n",
        "      <th></th>\n",
        "    </tr>\n",
        "  </thead>\n",
        "  <tbody>\n",
        "    <tr>\n",
        "      <th rowspan=\"5\" valign=\"top\">3</th>\n",
        "      <th>427</th>\n",
        "      <td> 627.572327</td>\n",
        "      <td> 1</td>\n",
        "      <td> 1.016254</td>\n",
        "      <td> 0.998909</td>\n",
        "      <td> 0.384201</td>\n",
        "    </tr>\n",
        "    <tr>\n",
        "      <th>428</th>\n",
        "      <td> 619.524231</td>\n",
        "      <td> 1</td>\n",
        "      <td> 0.991397</td>\n",
        "      <td> 0.998395</td>\n",
        "      <td> 0.373010</td>\n",
        "    </tr>\n",
        "    <tr>\n",
        "      <th>429</th>\n",
        "      <td> 620.488281</td>\n",
        "      <td> 1</td>\n",
        "      <td> 0.974962</td>\n",
        "      <td> 0.998685</td>\n",
        "      <td> 0.379067</td>\n",
        "    </tr>\n",
        "    <tr>\n",
        "      <th>430</th>\n",
        "      <td> 622.373535</td>\n",
        "      <td> 1</td>\n",
        "      <td> 1.015733</td>\n",
        "      <td> 0.998945</td>\n",
        "      <td> 0.390070</td>\n",
        "    </tr>\n",
        "    <tr>\n",
        "      <th>431</th>\n",
        "      <td> 619.023865</td>\n",
        "      <td> 1</td>\n",
        "      <td> 0.991536</td>\n",
        "      <td> 0.999739</td>\n",
        "      <td> 0.375817</td>\n",
        "    </tr>\n",
        "  </tbody>\n",
        "</table>\n",
        "</div>"
       ],
       "metadata": {},
       "output_type": "pyout",
       "prompt_number": 87,
       "text": [
        "          constant_tag  constant_tag_day  constant_tag_minute  haar_wavelet_4  \\\n",
        "tag date                                                                        \n",
        "3   427     627.572327                 1             1.016254        0.998909   \n",
        "    428     619.524231                 1             0.991397        0.998395   \n",
        "    429     620.488281                 1             0.974962        0.998685   \n",
        "    430     622.373535                 1             1.015733        0.998945   \n",
        "    431     619.023865                 1             0.991536        0.999739   \n",
        "\n",
        "             svd_2  \n",
        "tag date            \n",
        "3   427   0.384201  \n",
        "    428   0.373010  \n",
        "    429   0.379067  \n",
        "    430   0.390070  \n",
        "    431   0.375817  "
       ]
      }
     ],
     "prompt_number": 87
    },
    {
     "cell_type": "code",
     "collapsed": false,
     "input": [
      "c = 'haar_wavelet_4'\n",
      "errs[errs[c] < 1.2][c].hist(bins=40)\n",
      "title('haar errs')\n",
      "show()\n",
      "c = 'svd_2'\n",
      "errs[errs[c] < 1.2][c].hist(bins=40)\n",
      "title('svd errs')\n",
      "show()\n",
      "\n",
      "plt.scatter(err_sample.values[:,0],err_sample.values[:,1],marker='.')\n",
      "xlabel('haar error')\n",
      "ylabel('svd error')"
     ],
     "language": "python",
     "metadata": {},
     "outputs": [
      {
       "metadata": {},
       "output_type": "pyout",
       "prompt_number": 43,
       "text": [
        "<matplotlib.text.Text at 0x5965a8d0>"
       ]
      },
      {
       "metadata": {},
       "output_type": "display_data",
       "png": "[encoded data removed]",
       "text": [
        "<matplotlib.figure.Figure at 0x53a43ad0>"
       ]
      }
     ],
     "prompt_number": 43
    },
    {
     "cell_type": "markdown",
     "metadata": {},
     "source": [
      "### Select Partition By Error ###"
     ]
    },
    {
     "cell_type": "code",
     "collapsed": false,
     "input": [
      "e = errs['haar_wavelet_4']\n",
      "haar_range = [0.8,1.2]\n",
      "#haar_works = map(itemgetter(0), errs.index[(e < haar_range[1]) & (e > haar_range[0])])\n",
      "e = errs['svd_2']\n",
      "svd_range = [0.8,1.2]\n",
      "#svd_works = map(itemgetter(0), errs.index[(e < svd_range[1]) & (e > svd_range[0])])\n",
      "selected = map(itemgetter(0), errs.index[(errs['svd_2'] < svd_range[1]) & (errs['svd_2'] > svd_range[0]) & \n",
      "                                         (errs['haar_wavelet_4'] < haar_range[1]) &\n",
      "                                         (errs['haar_wavelet_4'] > haar_range[0])])\n",
      "#phase_works = map(itemgetter(0), errs.index[np.abs(errs['svd_2'] - 0.32) < 0.05])"
     ],
     "language": "python",
     "metadata": {},
     "outputs": [],
     "prompt_number": 55
    },
    {
     "cell_type": "code",
     "collapsed": false,
     "input": [
      "#print 'phase works:'\n",
      "#print map(itemgetter(0), nltk.FreqDist(phase_works).items()[:30])\n",
      "print 'selected works:'\n",
      "print map(itemgetter(0), nltk.FreqDist(selected).items()[:30])\n",
      "print nltk.FreqDist(selected).items()[:30]\n",
      "#print 'haar works:'\n",
      "#print map(itemgetter(0), nltk.FreqDist(haar_works).items()[:30])\n",
      "#print 'svd works:'\n",
      "#print map(itemgetter(0), nltk.FreqDist(svd_works).items()[:30])"
     ],
     "language": "python",
     "metadata": {},
     "outputs": [
      {
       "output_type": "stream",
       "stream": "stdout",
       "text": [
        "selected works:\n",
        "[13442, 14251, 38252, 38270, 49505, 49517, 49510, 49518, 13506, 13501, 49508, 38304, 49506, 30298, 48756, 30312, 37645, 30288, 30302, 26962, 27890, 38262, 30315, 30301, 48784, 37676, 10078, 37778, 17657, 19919]"
       ]
      },
      {
       "output_type": "stream",
       "stream": "stdout",
       "text": [
        "\n",
        "[(13442, 496), (14251, 496), (38252, 496), (38270, 496), (49505, 496), (49517, 496), (49510, 495), (49518, 494), (13506, 493), (13501, 490), (49508, 490), (38304, 489), (49506, 486), (30298, 482), (48756, 482), (30312, 479), (37645, 479), (30288, 477), (30302, 476), (26962, 474), (27890, 474), (38262, 470), (30315, 469), (30301, 468), (48784, 466), (37676, 465), (10078, 464), (37778, 464), (17657, 460), (19919, 460)]"
       ]
      },
      {
       "output_type": "stream",
       "stream": "stdout",
       "text": [
        "\n"
       ]
      }
     ],
     "prompt_number": 57
    },
    {
     "cell_type": "code",
     "collapsed": false,
     "input": [
      "tag_index = 10078\n",
      "tag = tag_list[tag_index]\n",
      "print tag\n",
      "df2 = get_tag_series(tag)"
     ],
     "language": "python",
     "metadata": {},
     "outputs": [
      {
       "output_type": "stream",
       "stream": "stdout",
       "text": [
        "NAE-03_CALIT.N2-1.RM-2008.7-1VAV2-21.SUPFLOW.SUPPLY_AIR_FLOW\n"
       ]
      }
     ],
     "prompt_number": 81
    },
    {
     "cell_type": "code",
     "collapsed": false,
     "input": [
      "plot_daily_series(df2,samples=2)\n",
      "errs.ix[tag_index].head(n=10)"
     ],
     "language": "python",
     "metadata": {},
     "outputs": [
      {
       "metadata": {},
       "output_type": "display_data",
       "text": [
        "<matplotlib.figure.Figure at 0x53a32a90>"
       ]
      },
      {
       "metadata": {},
       "output_type": "display_data",
       "png": "[encoded data removed]",
       "text": [
        "<matplotlib.figure.Figure at 0x53a32890>"
       ]
      },
      {
       "html": [
        "<div style=\"max-height:1000px;max-width:1500px;overflow:auto;\">\n",
        "<table border=\"1\" class=\"dataframe\">\n",
        "  <thead>\n",
        "    <tr style=\"text-align: right;\">\n",
        "      <th></th>\n",
        "      <th>constant_tag</th>\n",
        "      <th>constant_tag_day</th>\n",
        "      <th>constant_tag_minute</th>\n",
        "      <th>haar_wavelet_4</th>\n",
        "      <th>svd_2</th>\n",
        "    </tr>\n",
        "    <tr>\n",
        "      <th>date</th>\n",
        "      <th></th>\n",
        "      <th></th>\n",
        "      <th></th>\n",
        "      <th></th>\n",
        "      <th></th>\n",
        "    </tr>\n",
        "  </thead>\n",
        "  <tbody>\n",
        "    <tr>\n",
        "      <th>0 </th>\n",
        "      <td>  88.418037</td>\n",
        "      <td> 1</td>\n",
        "      <td> 1.002881</td>\n",
        "      <td> 0.925369</td>\n",
        "      <td> 0.986438</td>\n",
        "    </tr>\n",
        "    <tr>\n",
        "      <th>1 </th>\n",
        "      <td>  85.728531</td>\n",
        "      <td> 1</td>\n",
        "      <td> 0.989266</td>\n",
        "      <td> 0.980418</td>\n",
        "      <td> 0.988561</td>\n",
        "    </tr>\n",
        "    <tr>\n",
        "      <th>2 </th>\n",
        "      <td>  82.117706</td>\n",
        "      <td> 1</td>\n",
        "      <td> 0.996220</td>\n",
        "      <td> 0.957176</td>\n",
        "      <td> 0.990425</td>\n",
        "    </tr>\n",
        "    <tr>\n",
        "      <th>3 </th>\n",
        "      <td>  78.340729</td>\n",
        "      <td> 1</td>\n",
        "      <td> 0.986365</td>\n",
        "      <td> 0.961244</td>\n",
        "      <td> 0.982642</td>\n",
        "    </tr>\n",
        "    <tr>\n",
        "      <th>4 </th>\n",
        "      <td>  79.527237</td>\n",
        "      <td> 1</td>\n",
        "      <td> 0.989469</td>\n",
        "      <td> 0.990896</td>\n",
        "      <td> 0.975178</td>\n",
        "    </tr>\n",
        "    <tr>\n",
        "      <th>5 </th>\n",
        "      <td>  78.406372</td>\n",
        "      <td> 1</td>\n",
        "      <td> 1.011320</td>\n",
        "      <td> 0.916830</td>\n",
        "      <td> 0.999409</td>\n",
        "    </tr>\n",
        "    <tr>\n",
        "      <th>6 </th>\n",
        "      <td>  74.745163</td>\n",
        "      <td> 1</td>\n",
        "      <td> 1.027080</td>\n",
        "      <td> 0.960852</td>\n",
        "      <td> 1.023098</td>\n",
        "    </tr>\n",
        "    <tr>\n",
        "      <th>8 </th>\n",
        "      <td> 102.655434</td>\n",
        "      <td> 1</td>\n",
        "      <td> 1.008568</td>\n",
        "      <td> 0.942269</td>\n",
        "      <td> 1.002174</td>\n",
        "    </tr>\n",
        "    <tr>\n",
        "      <th>9 </th>\n",
        "      <td>  90.786720</td>\n",
        "      <td> 1</td>\n",
        "      <td> 1.013695</td>\n",
        "      <td> 0.954130</td>\n",
        "      <td> 1.009388</td>\n",
        "    </tr>\n",
        "    <tr>\n",
        "      <th>11</th>\n",
        "      <td>  78.980751</td>\n",
        "      <td> 1</td>\n",
        "      <td> 1.001830</td>\n",
        "      <td> 0.858425</td>\n",
        "      <td> 0.981047</td>\n",
        "    </tr>\n",
        "  </tbody>\n",
        "</table>\n",
        "</div>"
       ],
       "metadata": {},
       "output_type": "pyout",
       "prompt_number": 85,
       "text": [
        "      constant_tag  constant_tag_day  constant_tag_minute  haar_wavelet_4  \\\n",
        "date                                                                        \n",
        "0        88.418037                 1             1.002881        0.925369   \n",
        "1        85.728531                 1             0.989266        0.980418   \n",
        "2        82.117706                 1             0.996220        0.957176   \n",
        "3        78.340729                 1             0.986365        0.961244   \n",
        "4        79.527237                 1             0.989469        0.990896   \n",
        "5        78.406372                 1             1.011320        0.916830   \n",
        "6        74.745163                 1             1.027080        0.960852   \n",
        "8       102.655434                 1             1.008568        0.942269   \n",
        "9        90.786720                 1             1.013695        0.954130   \n",
        "11       78.980751                 1             1.001830        0.858425   \n",
        "\n",
        "         svd_2  \n",
        "date            \n",
        "0     0.986438  \n",
        "1     0.988561  \n",
        "2     0.990425  \n",
        "3     0.982642  \n",
        "4     0.975178  \n",
        "5     0.999409  \n",
        "6     1.023098  \n",
        "8     1.002174  \n",
        "9     1.009388  \n",
        "11    0.981047  "
       ]
      }
     ],
     "prompt_number": 85
    },
    {
     "cell_type": "markdown",
     "metadata": {},
     "source": [
      "# Conclusions #\n",
      "tag 38252,49505,49517 => try discrete fourier transform\n",
      "\n"
     ]
    }
   ],
   "metadata": {}
  }
 ]
}