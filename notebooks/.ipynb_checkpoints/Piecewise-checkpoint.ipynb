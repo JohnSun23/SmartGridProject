{
 "metadata": {
  "name": "",
  "signature": "sha256:3d3a56c97d6b88b07d5b6250e8114b54c246110a8ae9e76e199edf08bdf223b3"
 },
 "nbformat": 3,
 "nbformat_minor": 0,
 "worksheets": [
  {
   "cells": [
    {
     "cell_type": "markdown",
     "metadata": {},
     "source": [
      "# Optimal Piecewise Constant Approximation #\n",
      "### Overview ###\n",
      "Given $k$ and a time series $x_1,...x_T$, we choose in worst-case $O(T^2k)$-time the piecewise-constant\n",
      "function with $k$ segments to minimize squared error.  \n",
      "\n",
      "The code to do this is in `<root directory>/piecewise/...`.  In this notebook, we profile this code to solve this problem, and visualize\n",
      "the piecewise approximation.  \n",
      "\n",
      "### Dynamic Programming Formulation ###\n",
      "Minimize squared-error:\n",
      "\n",
      "For time $t$ and number of segments $j$ up to that time, cost is:\n",
      "$$ OPT(t,j) = min_{t'<t} OPT(t',j-1)+L(t',t) $$\n",
      "\n",
      "$L(t',t)$ the min mean squared error of compressing $x_{t'}...x_t$.  \n",
      "\n",
      "$x$ is a time series of length $T$ indexed $0,...T-1$\n",
      "\n",
      "### Algorithm implemented ###\n",
      "Our implementation is 0-indexed, so that tweaks the indexing a bit.\n",
      "\n",
      "* Range of values: OPT(t,j) defined for $0 \\leq t \\leq T-1$ and $0\\leq j \\leq k-1$.  \n",
      "* Range of values: L(a,b) defined for $0 \\leq a \\leq b \\leq T-1$\n",
      "* Base cases: $\\forall 1\\leq t \\leq j+1, OPT(t,j)=0$\n",
      "* Base cases: $\\forall 0 \\leq t \\leq T-1, OPT(t,0) = L(0,t)$\n",
      "* Recursive step: \n",
      " update(t,j)\n",
      " $$OPT(t,j) = min_{j+1 \\leq t' \\leq t}   OPT(t'-1,j-1) + L(t',t)$$\n",
      "\n",
      "        for j = 1 to k\n",
      "          for t = j+2 to T-1\n",
      "             update j,t"
     ]
    },
    {
     "cell_type": "code",
     "collapsed": false,
     "input": [
      "from notebook_common import *\n",
      "from piecewise.piecewise import optimal_piecewise_constant\n",
      "toggle_sections"
     ],
     "language": "python",
     "metadata": {},
     "outputs": [
      {
       "output_type": "stream",
       "stream": "stderr",
       "text": [
        "/usr/local/lib/python2.7/dist-packages/pandas/core/common.py:2106: FutureWarning: load is deprecated, use read_pickle\n",
        "  warnings.warn(\"load is deprecated, use read_pickle\", FutureWarning)\n"
       ]
      },
      {
       "html": [
        "\n",
        "<script type=\"text/javascript\">\n",
        "     show=true;\n",
        "     function toggle(){\n",
        "         if (show){\n",
        "             $('div.input').hide();\n",
        "             $('div.output_area').hide();\n",
        "             $(\"#toggle\").parent().parent().show()\n",
        "         }else{\n",
        "             $('div.input').show();\n",
        "             $('div.output_area').show();\n",
        "         }\n",
        "         show = !show\n",
        "     }\n",
        " </script>\n",
        " <a id=\"toggle\" href=\"javascript:toggle()\" target=\"_self\">toggle sections</a>"
       ],
       "metadata": {},
       "output_type": "pyout",
       "prompt_number": 1,
       "text": [
        "<IPython.core.display.HTML at 0x598d290>"
       ]
      }
     ],
     "prompt_number": 1
    },
    {
     "cell_type": "markdown",
     "metadata": {},
     "source": [
      "### Load Sample Sensor Data ###\n",
      "Choose a sensor that requires non-trivial piecewise constant compression.  Load the original sensor values from HDFS."
     ]
    },
    {
     "cell_type": "code",
     "collapsed": false,
     "input": [
      "tag = 'NAE-04_CALIT.N2-2.AH7-1.DX-050.OA-T.OUTSIDE_AIR_TEMPERATURE'\n",
      "df = get_tag_series(tag)\n",
      "x = df.values[0,:] #signal we want to approximate"
     ],
     "language": "python",
     "metadata": {},
     "outputs": [],
     "prompt_number": 2
    },
    {
     "cell_type": "markdown",
     "metadata": {},
     "source": [
      "### Profile piecewise approximation code ###"
     ]
    },
    {
     "cell_type": "code",
     "collapsed": false,
     "input": [
      "import cProfile\n",
      "cProfile.run('optimal_piecewise_constant(x,100)')"
     ],
     "language": "python",
     "metadata": {},
     "outputs": [
      {
       "output_type": "stream",
       "stream": "stdout",
       "text": [
        "         3110 function calls in 0.155 seconds\n",
        "\n",
        "   Ordered by: standard name\n",
        "\n",
        "   ncalls  tottime  percall  cumtime  percall filename:lineno(function)\n",
        "        1    0.000    0.000    0.155    0.155 <string>:1(<module>)\n",
        "      100    0.000    0.000    0.002    0.000 _methods.py:31(_any)\n",
        "      100    0.001    0.000    0.001    0.000 _methods.py:39(_count_reduce_items)\n",
        "      100    0.004    0.000    0.008    0.000 _methods.py:49(_mean)\n",
        "        1    0.000    0.000    0.000    0.000 fromnumeric.py:1370(nonzero)\n",
        "      100    0.000    0.000    0.008    0.000 fromnumeric.py:2632(mean)\n",
        "      100    0.001    0.000    0.020    0.000 moments.py:254(_rolling_moment)\n",
        "      100    0.000    0.000    0.013    0.000 moments.py:279(<lambda>)\n",
        "      100    0.003    0.000    0.006    0.000 moments.py:315(_process_data_structure)\n",
        "      100    0.000    0.000    0.000    0.000 moments.py:324(<lambda>)\n",
        "      100    0.004    0.000    0.007    0.000 moments.py:438(_zsqrt)\n",
        "      100    0.000    0.000    0.000    0.000 moments.py:466(_conv_timerule)\n",
        "      100    0.000    0.000    0.000    0.000 moments.py:483(_check_func)\n",
        "      100    0.001    0.000    0.021    0.000 moments.py:499(f)\n",
        "      100    0.000    0.000    0.013    0.000 moments.py:504(call_cython)\n",
        "      100    0.000    0.000    0.012    0.000 moments.py:519(<lambda>)\n",
        "        1    0.000    0.000    0.002    0.002 numeric.py:136(ones)\n",
        "      100    0.000    0.000    0.001    0.000 numeric.py:462(asanyarray)\n",
        "        1    0.006    0.006    0.026    0.026 piecewise.pyx:16(precompute_L)\n",
        "        1    0.118    0.118    0.155    0.155 piecewise.pyx:33(optimal_piecewise_constant)\n",
        "      100    0.000    0.000    0.000    0.000 {hasattr}\n",
        "      500    0.001    0.000    0.001    0.000 {isinstance}\n",
        "      200    0.000    0.000    0.000    0.000 {issubclass}\n",
        "      100    0.000    0.000    0.002    0.000 {method 'any' of 'numpy.ndarray' objects}\n",
        "      100    0.003    0.000    0.003    0.000 {method 'astype' of 'numpy.ndarray' objects}\n",
        "      100    0.000    0.000    0.000    0.000 {method 'copy' of 'numpy.ndarray' objects}\n",
        "        1    0.000    0.000    0.000    0.000 {method 'disable' of '_lsprof.Profiler' objects}\n",
        "        1    0.000    0.000    0.000    0.000 {method 'nonzero' of 'numpy.ndarray' objects}\n",
        "      200    0.004    0.000    0.004    0.000 {method 'reduce' of 'numpy.ufunc' objects}\n",
        "      100    0.000    0.000    0.000    0.000 {numpy.core.multiarray.array}\n",
        "        1    0.002    0.002    0.002    0.002 {numpy.core.multiarray.copyto}\n",
        "        1    0.000    0.000    0.000    0.000 {numpy.core.multiarray.empty}\n",
        "      100    0.005    0.000    0.005    0.000 {pandas.algos.roll_var}\n",
        "      100    0.000    0.000    0.000    0.000 {range}\n",
        "        1    0.000    0.000    0.155    0.155 {src.piecewise.piecewise.optimal_piecewise_constant}\n",
        "\n",
        "\n"
       ]
      }
     ],
     "prompt_number": 13
    },
    {
     "cell_type": "code",
     "collapsed": false,
     "input": [
      "import statprof\n",
      "\n",
      "statprof.start()\n",
      "try:\n",
      "    x = df.values[0,:]\n",
      "    ts,xs = optimal_piecewise_constant(x,100)\n",
      "finally:\n",
      "    statprof.stop()\n",
      "    statprof.display()"
     ],
     "language": "python",
     "metadata": {},
     "outputs": [
      {
       "output_type": "stream",
       "stream": "stdout",
       "text": [
        "  %   cumulative      self          \n",
        " time    seconds   seconds  name    \n",
        " 90.87      1.58      1.58  moments.py:499:f\n",
        "  2.40      0.13      0.04  moments.py:519:<lambda>\n",
        "  2.40      0.04      0.04  moments.py:439:_zsqrt\n",
        "  1.44      0.03      0.03  _methods.py:33:_any\n",
        "  0.96      0.02      0.02  moments.py:332:_process_data_structure\n",
        "  0.48      0.01      0.01  fromnumeric.py:1370:nonzero\n",
        "  0.48      0.01      0.01  _methods.py:32:_any\n",
        "  0.48      0.01      0.01  _methods.py:31:_any\n",
        "  0.48      0.15      0.01  moments.py:509:f\n",
        "  0.00      1.74      0.00  <ipython-input-4-2937833e2fd7>:6:<module>\n",
        "  0.00      1.74      0.00  ioloop.py:330:start\n",
        "  0.00      1.74      0.00  <string>:1:<module>\n",
        "  0.00      0.02      0.00  moments.py:280:_rolling_moment\n",
        "  0.00      1.74      0.00  kernelapp.py:468:main\n",
        "  0.00      1.74      0.00  kernelapp.py:458:start\n",
        "  0.00      1.74      0.00  zmqstream.py:424:_handle_recv\n",
        "  0.00      1.74      0.00  ipkernel.py:241:dispatch_shell\n",
        "  0.00      0.13      0.00  moments.py:506:call_cython\n",
        "  0.00      1.74      0.00  ipkernel.py:390:execute_request\n",
        "  0.00      0.13      0.00  moments.py:279:<lambda>\n",
        "  0.00      1.74      0.00  interactiveshell.py:2667:run_cell\n",
        "  0.00      1.74      0.00  zmqstream.py:365:_run_callback\n",
        "  0.00      1.74      0.00  zmqstream.py:391:_handle_events\n",
        "  0.00      0.04      0.00  moments.py:446:_zsqrt\n",
        "  0.00      1.74      0.00  ipkernel.py:273:dispatcher\n",
        "  0.00      1.74      0.00  interactiveshell.py:2771:run_ast_nodes\n",
        "  0.00      1.74      0.00  interactiveshell.py:2827:run_code\n",
        "  0.00      0.13      0.00  moments.py:285:_rolling_moment\n",
        "---\n",
        "Sample count: 208\n",
        "Total time: 1.740000 seconds\n"
       ]
      }
     ],
     "prompt_number": 4
    },
    {
     "cell_type": "markdown",
     "metadata": {},
     "source": [
      "### Visualize Piecewise Approximation ###"
     ]
    },
    {
     "cell_type": "code",
     "collapsed": false,
     "input": [
      "ts,xs = optimal_piecewise_constant(x,30)\n",
      "x2 = zeros((len(x),)) #reconstruction\n",
      "for t,xx in zip(ts,xs):\n",
      "    x2[t:] = xx\n",
      "#scatter(ts,xs,color='blue',marker='o',label='piecewise constant approximation')\n",
      "plot(x,color='blue',label='original')\n",
      "plot(x2,color='red',label='piecewise')\n",
      "#scatter(range(T),x,color='red',marker='+',label='original data')\n",
      "show()"
     ],
     "language": "python",
     "metadata": {},
     "outputs": [
      {
       "metadata": {},
       "output_type": "display_data",
       "png": "[encoded data removed]",
       "text": [
        "<matplotlib.figure.Figure at 0x2674d10>"
       ]
      }
     ],
     "prompt_number": 17
    },
    {
     "cell_type": "code",
     "collapsed": false,
     "input": [],
     "language": "python",
     "metadata": {},
     "outputs": []
    }
   ],
   "metadata": {}
  }
 ]
}