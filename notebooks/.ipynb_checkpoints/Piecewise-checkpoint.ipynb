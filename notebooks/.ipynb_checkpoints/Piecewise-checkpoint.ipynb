{
 "metadata": {
  "name": "",
  "signature": "sha256:3d3a56c97d6b88b07d5b6250e8114b54c246110a8ae9e76e199edf08bdf223b3"
 },
 "nbformat": 3,
 "nbformat_minor": 0,
 "worksheets": [
  {
   "cells": [
    {
     "cell_type": "code",
     "collapsed": false,
     "input": [
      "from notebook_common import *\n",
      "from piecewise.piecewise import optimal_piecewise_constant\n",
      "toggle_sections"
     ],
     "language": "python",
     "metadata": {},
     "outputs": [
      {
       "output_type": "stream",
       "stream": "stderr",
       "text": [
        "/usr/local/lib/python2.7/dist-packages/pandas/core/common.py:2106: FutureWarning: load is deprecated, use read_pickle\n",
        "  warnings.warn(\"load is deprecated, use read_pickle\", FutureWarning)\n"
       ]
      },
      {
       "html": [
        "\n",
        "<script type=\"text/javascript\">\n",
        "     show=true;\n",
        "     function toggle(){\n",
        "         if (show){\n",
        "             $('div.input').hide();\n",
        "             $('div.output_area').hide();\n",
        "             $(\"#toggle\").parent().parent().show()\n",
        "         }else{\n",
        "             $('div.input').show();\n",
        "             $('div.output_area').show();\n",
        "         }\n",
        "         show = !show\n",
        "     }\n",
        " </script>\n",
        " <a id=\"toggle\" href=\"javascript:toggle()\" target=\"_self\">toggle sections</a>"
       ],
       "metadata": {},
       "output_type": "pyout",
       "prompt_number": 1,
       "text": [
        "<IPython.core.display.HTML at 0x4c945d0>"
       ]
      }
     ],
     "prompt_number": 1
    },
    {
     "cell_type": "markdown",
     "metadata": {},
     "source": [
      "# Reconstruct From Meta-Compressed Representation #\n",
      "Sensor data has been meta-compressed if the best compression method has been chosen for each sensor.  "
     ]
    },
    {
     "cell_type": "code",
     "collapsed": false,
     "input": [
      "# Load compressed data\n",
      "compression_dir = os.path.join(os.environ['SMART_GRID_DATA'],'compression')\n",
      "context = load_compressed_tag_errs(os.path.join(compression_dir,'outside_temp_meta_compressed'))\n",
      "df_compressed = context['df']\n",
      "tag_list = context['tag_list']"
     ],
     "language": "python",
     "metadata": {},
     "outputs": [],
     "prompt_number": 2
    },
    {
     "cell_type": "code",
     "collapsed": false,
     "input": [
      "tag = tag_list[0] #random.choice(tag_list)\n",
      "df_meta = meta_decompress_tag(df_compressed,tag,context)\n",
      "df = get_tag_series(tag)"
     ],
     "language": "python",
     "metadata": {},
     "outputs": [],
     "prompt_number": 3
    },
    {
     "cell_type": "markdown",
     "metadata": {},
     "source": [
      "# Dynamic Programming Formulation #\n",
      "Minimize squared-error:\n",
      "\n",
      "For time $t$ and number of segments $j$ up to that time, cost is:\n",
      "$$ OPT(t,j) = min_{t'<t} OPT(t',j-1)+L(t',t) $$\n",
      "\n",
      "$x$ is a time series of length $T$ indexed $0,...T-1$\n",
      "\n",
      "Our implementation is 0-indexed, so that tweaks the indexing a bit.\n",
      "\n",
      "* Range of values: OPT(t,j) defined for $0 \\leq t \\leq T-1$ and $0\\leq j \\leq k-1$.  \n",
      "* Range of values: L(a,b) defined for $0 \\leq a \\leq b \\leq T-1$\n",
      "* Base cases: $\\forall 1\\leq t \\leq j+1, OPT(t,j)=0$\n",
      "* Base cases: $\\forall 0 \\leq t \\leq T-1, OPT(t,0) = L(0,t)$\n",
      "* Recursive step: \n",
      " update(t,j)\n",
      " $$OPT(t,j) = min_{j+1 \\leq t' \\leq t}   OPT(t'-1,j-1) + L(t',t)$$\n",
      "\n",
      "        for j = 1 to k\n",
      "          for t = j+2 to T-1\n",
      "             update j,t"
     ]
    },
    {
     "cell_type": "code",
     "collapsed": false,
     "input": [
      "x = df.values[0,:]\n",
      "ts,xs = optimal_piecewise_constant(x,70)\n",
      "x2 = zeros((len(x),)) #reconstruction\n",
      "for t,xx in zip(ts,xs):\n",
      "    x2[t:] = xx\n",
      "#scatter(ts,xs,color='blue',marker='o',label='piecewise constant approximation')\n",
      "plot(x,color='blue',label='original')\n",
      "plot(x2,color='red',label='piecewise')\n",
      "#scatter(range(T),x,color='red',marker='+',label='original data')\n",
      "show()"
     ],
     "language": "python",
     "metadata": {},
     "outputs": [
      {
       "metadata": {},
       "output_type": "display_data",
       "png": "[encoded data removed]",
       "text": [
        "<matplotlib.figure.Figure at 0x4d2de90>"
       ]
      }
     ],
     "prompt_number": 16
    }
   ],
   "metadata": {}
  }
 ]
}